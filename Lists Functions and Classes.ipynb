{
 "cells": [
  {
   "cell_type": "code",
   "execution_count": 22,
   "id": "4019354e",
   "metadata": {},
   "outputs": [
    {
     "name": "stdout",
     "output_type": "stream",
     "text": [
      "Enter a type of vehicle: Car\n",
      "Enter the year: 2023\n",
      "Enter the make: Toyota\n",
      "Enter the model: Camry\n",
      "How many doors: 4\n",
      "Enter roof type (solid or sun roof)Sun Roof\n",
      "\n",
      "Vehicle Data:\n",
      "\n",
      "Vehicle type:  Car\n",
      "Year:  2023\n",
      "Make:  Toyota\n",
      "Model:  Camry\n",
      "Number of doors:  4\n",
      "Type of roof:  Sun Roof\n"
     ]
    }
   ],
   "source": [
    "class Vehicle:\n",
    "    def __init__(self, type):\n",
    "        self.type = type\n",
    "        \n",
    "class Automobile(Vehicle):\n",
    "    def __init__(self, type, year, make, model, doors, roof):\n",
    "        super().__init__(type)\n",
    "        self.year = year\n",
    "        self.make = make\n",
    "        self.model = model\n",
    "        self.doors = doors\n",
    "        self.roof = roof\n",
    "        \n",
    "    def data(self):\n",
    "        print(\"Vehicle type: \", self.type)\n",
    "        print(\"Year: \", self.year)\n",
    "        print(\"Make: \", self.make)\n",
    "        print(\"Model: \", self.model)\n",
    "        print(\"Number of doors: \", self.doors)\n",
    "        print(\"Type of roof: \", self.roof)\n",
    "\n",
    "vehicleData = Automobile(input(\"Enter a type of vehicle: \"), input(\"Enter the year: \"), input(\"Enter the make: \"), input(\"Enter the model: \"), input(\"How many doors: \"), input(\"Enter roof type (solid or sun roof)\"))\n",
    "\n",
    "print(\"\\nVehicle Data:\\n\")\n",
    "vehicleData.data()"
   ]
  },
  {
   "cell_type": "code",
   "execution_count": null,
   "id": "8b89d0a8",
   "metadata": {},
   "outputs": [],
   "source": []
  },
  {
   "cell_type": "code",
   "execution_count": null,
   "id": "7f86bd0a",
   "metadata": {},
   "outputs": [],
   "source": []
  },
  {
   "cell_type": "code",
   "execution_count": null,
   "id": "0c0a115b",
   "metadata": {},
   "outputs": [],
   "source": []
  }
 ],
 "metadata": {
  "kernelspec": {
   "display_name": "Python 3 (ipykernel)",
   "language": "python",
   "name": "python3"
  },
  "language_info": {
   "codemirror_mode": {
    "name": "ipython",
    "version": 3
   },
   "file_extension": ".py",
   "mimetype": "text/x-python",
   "name": "python",
   "nbconvert_exporter": "python",
   "pygments_lexer": "ipython3",
   "version": "3.11.4"
  }
 },
 "nbformat": 4,
 "nbformat_minor": 5
}
